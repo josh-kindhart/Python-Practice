{
  "nbformat": 4,
  "nbformat_minor": 0,
  "metadata": {
    "colab": {
      "provenance": [],
      "authorship_tag": "ABX9TyPOey+PWa2yeGyro6gH34a5",
      "include_colab_link": true
    },
    "kernelspec": {
      "name": "python3",
      "display_name": "Python 3"
    },
    "language_info": {
      "name": "python"
    }
  },
  "cells": [
    {
      "cell_type": "markdown",
      "metadata": {
        "id": "view-in-github",
        "colab_type": "text"
      },
      "source": [
        "<a href=\"https://colab.research.google.com/github/josh-kindhart/Python-Practice/blob/main/AnimalAdder.ipynb\" target=\"_parent\"><img src=\"https://colab.research.google.com/assets/colab-badge.svg\" alt=\"Open In Colab\"/></a>"
      ]
    },
    {
      "cell_type": "code",
      "execution_count": 1,
      "metadata": {
        "id": "sUMOw-G9a9kn"
      },
      "outputs": [],
      "source": [
        "class Animal():\n",
        "  def __init__(self, name, noise=None):\n",
        "    self.name = name\n",
        "\n",
        "  def make_noise(self):\n",
        "    if self.noise != None:\n",
        "      print(f'{self.noise}!')\n",
        "\n",
        "  def __add__(self, another_animal):\n",
        "    class Hybrid(type(self), type(another_animal)):\n",
        "      name = self.name + another_animal.name\n",
        "      noise = self.noise + another_animal.noise\n",
        "    self = Hybrid(Hybrid.name)\n",
        "    return self\n",
        "\n",
        "class Dog(Animal):\n",
        "  noise = 'Woof'\n",
        "class Cat(Animal):\n",
        "  noise = 'Meow'"
      ]
    },
    {
      "cell_type": "code",
      "source": [
        "dog = Dog('Spot')\n",
        "cat = Cat('Whiskers')"
      ],
      "metadata": {
        "id": "mJ0VqhFIpjr5"
      },
      "execution_count": 2,
      "outputs": []
    },
    {
      "cell_type": "code",
      "source": [
        "dog.make_noise()"
      ],
      "metadata": {
        "colab": {
          "base_uri": "https://localhost:8080/"
        },
        "id": "tXIylk5bzXfF",
        "outputId": "cec7a365-85eb-453a-f876-8953c2d8efe3"
      },
      "execution_count": 3,
      "outputs": [
        {
          "output_type": "stream",
          "name": "stdout",
          "text": [
            "Woof!\n"
          ]
        }
      ]
    },
    {
      "cell_type": "code",
      "source": [
        "cat.make_noise()"
      ],
      "metadata": {
        "colab": {
          "base_uri": "https://localhost:8080/"
        },
        "id": "uNIAJVYH_TsB",
        "outputId": "697ec2b6-46fa-43f7-987e-1f893b124c6e"
      },
      "execution_count": 4,
      "outputs": [
        {
          "output_type": "stream",
          "name": "stdout",
          "text": [
            "Meow!\n"
          ]
        }
      ]
    },
    {
      "cell_type": "code",
      "source": [
        "catdog = cat + dog"
      ],
      "metadata": {
        "id": "aGTWCfMr_4cL"
      },
      "execution_count": 5,
      "outputs": []
    },
    {
      "cell_type": "code",
      "source": [
        "catdog.make_noise()"
      ],
      "metadata": {
        "colab": {
          "base_uri": "https://localhost:8080/"
        },
        "id": "OlNQlAvCCnX_",
        "outputId": "e628584f-19c2-4ab7-83ec-3879931052f1"
      },
      "execution_count": 6,
      "outputs": [
        {
          "output_type": "stream",
          "name": "stdout",
          "text": [
            "MeowWoof!\n"
          ]
        }
      ]
    }
  ]
}