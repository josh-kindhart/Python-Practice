{
  "cells": [
    {
      "cell_type": "markdown",
      "metadata": {
        "id": "view-in-github",
        "colab_type": "text"
      },
      "source": [
        "<a href=\"https://colab.research.google.com/github/josh-kindhart/Python-Practice/blob/main/Stock%20Data%20Web%20Scraping.ipynb\" target=\"_parent\"><img src=\"https://colab.research.google.com/assets/colab-badge.svg\" alt=\"Open In Colab\"/></a>"
      ]
    },
    {
      "cell_type": "code",
      "source": [
        "!pip install ipympl\n",
        "!pip install mplfinance\n",
        "from google.colab import output\n",
        "output.enable_custom_widget_manager()"
      ],
      "metadata": {
        "id": "roHMbI_SL9-z"
      },
      "execution_count": null,
      "outputs": []
    },
    {
      "cell_type": "code",
      "source": [
        "import os\n",
        "import mplfinance as mpf\n",
        "from datetime import datetime\n",
        "import pandas as pd\n",
        "import pandas_datareader.data as web\n",
        "import matplotlib.pyplot as plt\n",
        "\n",
        "website = 'https://pandas-datareader.readthedocs.io/en/latest/remote_data.html#remote-data-alphavantage'\n",
        "api_key = '26E0EWOJLXTIUY3V'\n",
        "\n",
        "df = web.DataReader(\"AAPL\", \"av-intraday\", start=datetime(2023, 8, 14), end=datetime(2023, 8, 15),\n",
        "                          api_key=api_key)"
      ],
      "metadata": {
        "id": "6WD-zyKOJwc0"
      },
      "execution_count": 2,
      "outputs": []
    },
    {
      "cell_type": "code",
      "source": [
        "df['DateTime'] = df.index\n",
        "df.reset_index(drop=True, inplace=True)\n",
        "df.columns = ['Open','High','Low','Close','Volume','DateTime']\n",
        "df = df[['DateTime','Open','High','Low','Close','Volume']]\n",
        "df['DateTime'] = pd.to_datetime(df['DateTime'])"
      ],
      "metadata": {
        "id": "vPNhZklkS8Z2"
      },
      "execution_count": 3,
      "outputs": []
    },
    {
      "cell_type": "code",
      "source": [
        "display(df.head())"
      ],
      "metadata": {
        "id": "l0TTzlC2Kwnc",
        "outputId": "42558ae1-6c6d-4692-fd45-5c2be8a91aad",
        "colab": {
          "base_uri": "https://localhost:8080/",
          "height": 206
        }
      },
      "execution_count": 4,
      "outputs": [
        {
          "output_type": "display_data",
          "data": {
            "text/plain": [
              "             DateTime    Open    High     Low   Close  Volume\n",
              "0 2023-08-14 04:00:00  179.35  179.35  177.73  178.59   10141\n",
              "1 2023-08-14 04:01:00  178.55  179.45  178.37  178.95    9517\n",
              "2 2023-08-14 04:02:00  179.00  179.04  178.86  179.04    1684\n",
              "3 2023-08-14 04:03:00  179.14  179.19  179.00  179.10    4146\n",
              "4 2023-08-14 04:04:00  179.07  179.07  178.83  178.95    3125"
            ],
            "text/html": [
              "\n",
              "  <div id=\"df-608ecd25-7d0f-47cb-9da3-e2d46df75d73\" class=\"colab-df-container\">\n",
              "    <div>\n",
              "<style scoped>\n",
              "    .dataframe tbody tr th:only-of-type {\n",
              "        vertical-align: middle;\n",
              "    }\n",
              "\n",
              "    .dataframe tbody tr th {\n",
              "        vertical-align: top;\n",
              "    }\n",
              "\n",
              "    .dataframe thead th {\n",
              "        text-align: right;\n",
              "    }\n",
              "</style>\n",
              "<table border=\"1\" class=\"dataframe\">\n",
              "  <thead>\n",
              "    <tr style=\"text-align: right;\">\n",
              "      <th></th>\n",
              "      <th>DateTime</th>\n",
              "      <th>Open</th>\n",
              "      <th>High</th>\n",
              "      <th>Low</th>\n",
              "      <th>Close</th>\n",
              "      <th>Volume</th>\n",
              "    </tr>\n",
              "  </thead>\n",
              "  <tbody>\n",
              "    <tr>\n",
              "      <th>0</th>\n",
              "      <td>2023-08-14 04:00:00</td>\n",
              "      <td>179.35</td>\n",
              "      <td>179.35</td>\n",
              "      <td>177.73</td>\n",
              "      <td>178.59</td>\n",
              "      <td>10141</td>\n",
              "    </tr>\n",
              "    <tr>\n",
              "      <th>1</th>\n",
              "      <td>2023-08-14 04:01:00</td>\n",
              "      <td>178.55</td>\n",
              "      <td>179.45</td>\n",
              "      <td>178.37</td>\n",
              "      <td>178.95</td>\n",
              "      <td>9517</td>\n",
              "    </tr>\n",
              "    <tr>\n",
              "      <th>2</th>\n",
              "      <td>2023-08-14 04:02:00</td>\n",
              "      <td>179.00</td>\n",
              "      <td>179.04</td>\n",
              "      <td>178.86</td>\n",
              "      <td>179.04</td>\n",
              "      <td>1684</td>\n",
              "    </tr>\n",
              "    <tr>\n",
              "      <th>3</th>\n",
              "      <td>2023-08-14 04:03:00</td>\n",
              "      <td>179.14</td>\n",
              "      <td>179.19</td>\n",
              "      <td>179.00</td>\n",
              "      <td>179.10</td>\n",
              "      <td>4146</td>\n",
              "    </tr>\n",
              "    <tr>\n",
              "      <th>4</th>\n",
              "      <td>2023-08-14 04:04:00</td>\n",
              "      <td>179.07</td>\n",
              "      <td>179.07</td>\n",
              "      <td>178.83</td>\n",
              "      <td>178.95</td>\n",
              "      <td>3125</td>\n",
              "    </tr>\n",
              "  </tbody>\n",
              "</table>\n",
              "</div>\n",
              "    <div class=\"colab-df-buttons\">\n",
              "\n",
              "  <div class=\"colab-df-container\">\n",
              "    <button class=\"colab-df-convert\" onclick=\"convertToInteractive('df-608ecd25-7d0f-47cb-9da3-e2d46df75d73')\"\n",
              "            title=\"Convert this dataframe to an interactive table.\"\n",
              "            style=\"display:none;\">\n",
              "\n",
              "  <svg xmlns=\"http://www.w3.org/2000/svg\" height=\"24px\" viewBox=\"0 -960 960 960\">\n",
              "    <path d=\"M120-120v-720h720v720H120Zm60-500h600v-160H180v160Zm220 220h160v-160H400v160Zm0 220h160v-160H400v160ZM180-400h160v-160H180v160Zm440 0h160v-160H620v160ZM180-180h160v-160H180v160Zm440 0h160v-160H620v160Z\"/>\n",
              "  </svg>\n",
              "    </button>\n",
              "\n",
              "  <style>\n",
              "    .colab-df-container {\n",
              "      display:flex;\n",
              "      gap: 12px;\n",
              "    }\n",
              "\n",
              "    .colab-df-convert {\n",
              "      background-color: #E8F0FE;\n",
              "      border: none;\n",
              "      border-radius: 50%;\n",
              "      cursor: pointer;\n",
              "      display: none;\n",
              "      fill: #1967D2;\n",
              "      height: 32px;\n",
              "      padding: 0 0 0 0;\n",
              "      width: 32px;\n",
              "    }\n",
              "\n",
              "    .colab-df-convert:hover {\n",
              "      background-color: #E2EBFA;\n",
              "      box-shadow: 0px 1px 2px rgba(60, 64, 67, 0.3), 0px 1px 3px 1px rgba(60, 64, 67, 0.15);\n",
              "      fill: #174EA6;\n",
              "    }\n",
              "\n",
              "    .colab-df-buttons div {\n",
              "      margin-bottom: 4px;\n",
              "    }\n",
              "\n",
              "    [theme=dark] .colab-df-convert {\n",
              "      background-color: #3B4455;\n",
              "      fill: #D2E3FC;\n",
              "    }\n",
              "\n",
              "    [theme=dark] .colab-df-convert:hover {\n",
              "      background-color: #434B5C;\n",
              "      box-shadow: 0px 1px 3px 1px rgba(0, 0, 0, 0.15);\n",
              "      filter: drop-shadow(0px 1px 2px rgba(0, 0, 0, 0.3));\n",
              "      fill: #FFFFFF;\n",
              "    }\n",
              "  </style>\n",
              "\n",
              "    <script>\n",
              "      const buttonEl =\n",
              "        document.querySelector('#df-608ecd25-7d0f-47cb-9da3-e2d46df75d73 button.colab-df-convert');\n",
              "      buttonEl.style.display =\n",
              "        google.colab.kernel.accessAllowed ? 'block' : 'none';\n",
              "\n",
              "      async function convertToInteractive(key) {\n",
              "        const element = document.querySelector('#df-608ecd25-7d0f-47cb-9da3-e2d46df75d73');\n",
              "        const dataTable =\n",
              "          await google.colab.kernel.invokeFunction('convertToInteractive',\n",
              "                                                    [key], {});\n",
              "        if (!dataTable) return;\n",
              "\n",
              "        const docLinkHtml = 'Like what you see? Visit the ' +\n",
              "          '<a target=\"_blank\" href=https://colab.research.google.com/notebooks/data_table.ipynb>data table notebook</a>'\n",
              "          + ' to learn more about interactive tables.';\n",
              "        element.innerHTML = '';\n",
              "        dataTable['output_type'] = 'display_data';\n",
              "        await google.colab.output.renderOutput(dataTable, element);\n",
              "        const docLink = document.createElement('div');\n",
              "        docLink.innerHTML = docLinkHtml;\n",
              "        element.appendChild(docLink);\n",
              "      }\n",
              "    </script>\n",
              "  </div>\n",
              "\n",
              "\n",
              "<div id=\"df-02cea258-cead-47ac-ac1f-ab8d1e18832b\">\n",
              "  <button class=\"colab-df-quickchart\" onclick=\"quickchart('df-02cea258-cead-47ac-ac1f-ab8d1e18832b')\"\n",
              "            title=\"Suggest charts.\"\n",
              "            style=\"display:none;\">\n",
              "\n",
              "<svg xmlns=\"http://www.w3.org/2000/svg\" height=\"24px\"viewBox=\"0 0 24 24\"\n",
              "     width=\"24px\">\n",
              "    <g>\n",
              "        <path d=\"M19 3H5c-1.1 0-2 .9-2 2v14c0 1.1.9 2 2 2h14c1.1 0 2-.9 2-2V5c0-1.1-.9-2-2-2zM9 17H7v-7h2v7zm4 0h-2V7h2v10zm4 0h-2v-4h2v4z\"/>\n",
              "    </g>\n",
              "</svg>\n",
              "  </button>\n",
              "\n",
              "<style>\n",
              "  .colab-df-quickchart {\n",
              "    background-color: #E8F0FE;\n",
              "    border: none;\n",
              "    border-radius: 50%;\n",
              "    cursor: pointer;\n",
              "    display: none;\n",
              "    fill: #1967D2;\n",
              "    height: 32px;\n",
              "    padding: 0 0 0 0;\n",
              "    width: 32px;\n",
              "  }\n",
              "\n",
              "  .colab-df-quickchart:hover {\n",
              "    background-color: #E2EBFA;\n",
              "    box-shadow: 0px 1px 2px rgba(60, 64, 67, 0.3), 0px 1px 3px 1px rgba(60, 64, 67, 0.15);\n",
              "    fill: #174EA6;\n",
              "  }\n",
              "\n",
              "  [theme=dark] .colab-df-quickchart {\n",
              "    background-color: #3B4455;\n",
              "    fill: #D2E3FC;\n",
              "  }\n",
              "\n",
              "  [theme=dark] .colab-df-quickchart:hover {\n",
              "    background-color: #434B5C;\n",
              "    box-shadow: 0px 1px 3px 1px rgba(0, 0, 0, 0.15);\n",
              "    filter: drop-shadow(0px 1px 2px rgba(0, 0, 0, 0.3));\n",
              "    fill: #FFFFFF;\n",
              "  }\n",
              "</style>\n",
              "\n",
              "  <script>\n",
              "    async function quickchart(key) {\n",
              "      const charts = await google.colab.kernel.invokeFunction(\n",
              "          'suggestCharts', [key], {});\n",
              "    }\n",
              "    (() => {\n",
              "      let quickchartButtonEl =\n",
              "        document.querySelector('#df-02cea258-cead-47ac-ac1f-ab8d1e18832b button');\n",
              "      quickchartButtonEl.style.display =\n",
              "        google.colab.kernel.accessAllowed ? 'block' : 'none';\n",
              "    })();\n",
              "  </script>\n",
              "</div>\n",
              "    </div>\n",
              "  </div>\n"
            ]
          },
          "metadata": {}
        }
      ]
    },
    {
      "cell_type": "code",
      "source": [
        "%matplotlib ipympl\n",
        "df.index = df['DateTime']\n",
        "mc =mpf.make_marketcolors(up='green', down='red', volume='darkblue')\n",
        "s =mpf.make_mpf_style(marketcolors=mc)\n",
        "mpf.plot(df.head(100), type='candle', volume=True, style=s)"
      ],
      "metadata": {
        "id": "Qp7j7kJAK3oS",
        "outputId": "f704745c-5a77-453e-fc4c-d0569d74bc48",
        "colab": {
          "base_uri": "https://localhost:8080/",
          "height": 664,
          "referenced_widgets": [
            "8dfe271b7805480fbd1a0ce3ff6a77e4",
            "def9c8a3ed6748b897494bdddc7a5bc6",
            "d2f471c769b94d8ba604c23d85c552f2",
            "43d28cb81d414e85b235829b97a6ed84"
          ]
        }
      },
      "execution_count": 21,
      "outputs": [
        {
          "output_type": "display_data",
          "data": {
            "text/plain": [
              "Canvas(toolbar=Toolbar(toolitems=[('Home', 'Reset original view', 'home', 'home'), ('Back', 'Back to previous …"
            ],
            "image/png": "[encoded data removed]",
            "text/html": [
              "\n",
              "            <div style=\"display: inline-block;\">\n",
              "                <div class=\"jupyter-widgets widget-label\" style=\"text-align: center;\">\n",
              "                    Figure\n",
              "                </div>\n",
              "                <img src='data:image/png;base64,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' width=800.0/>\n",
              "            </div>\n",
              "        "
            ],
            "application/vnd.jupyter.widget-view+json": {
              "version_major": 2,
              "version_minor": 0,
              "model_id": "8dfe271b7805480fbd1a0ce3ff6a77e4"
            }
          },
          "metadata": {
            "application/vnd.jupyter.widget-view+json": {
              "colab": {
                "custom_widget_manager": {
                  "url": "https://ssl.gstatic.com/colaboratory-static/widgets/colab-cdn-widget-manager/b3e629b1971e1542/manager.min.js"
                }
              }
            }
          }
        }
      ]
    },
    {
      "cell_type": "code",
      "source": [],
      "metadata": {
        "id": "qQfQAiVFK9TD"
      },
      "execution_count": null,
      "outputs": []
    }
  ],
  "metadata": {
    "colab": {
      "name": "Welcome To Colaboratory",
      "provenance": [],
      "include_colab_link": true
    },
    "kernelspec": {
      "display_name": "Python 3",
      "name": "python3"
    },
    "widgets": {
      "application/vnd.jupyter.widget-state+json": {
        "8dfe271b7805480fbd1a0ce3ff6a77e4": {
          "model_module": "jupyter-matplotlib",
          "model_name": "MPLCanvasModel",
          "model_module_version": "^0.11",
          "state": {
            "_cursor": "crosshair",
            "_data_url": "data:image/png;base64,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",
            "_dom_classes": [],
            "_figure_label": "Figure 15",
            "_image_mode": "diff",
            "_message": "x=04:32 y=179.440",
            "_model_module": "jupyter-matplotlib",
            "_model_module_version": "^0.11",
            "_model_name": "MPLCanvasModel",
            "_rubberband_height": 0,
            "_rubberband_width": 0,
            "_rubberband_x": 0,
            "_rubberband_y": 576,
            "_size": [
              800,
              575
            ],
            "_view_count": null,
            "_view_module": "jupyter-matplotlib",
            "_view_module_version": "^0.11",
            "_view_name": "MPLCanvasView",
            "capture_scroll": false,
            "footer_visible": true,
            "header_visible": true,
            "layout": "IPY_MODEL_def9c8a3ed6748b897494bdddc7a5bc6",
            "pan_zoom_throttle": 33,
            "resizable": true,
            "toolbar": "IPY_MODEL_d2f471c769b94d8ba604c23d85c552f2",
            "toolbar_position": "left",
            "toolbar_visible": "fade-in-fade-out"
          }
        },
        "def9c8a3ed6748b897494bdddc7a5bc6": {
          "model_module": "@jupyter-widgets/base",
          "model_name": "LayoutModel",
          "model_module_version": "1.2.0",
          "state": {
            "_model_module": "@jupyter-widgets/base",
            "_model_module_version": "1.2.0",
            "_model_name": "LayoutModel",
            "_view_count": null,
            "_view_module": "@jupyter-widgets/base",
            "_view_module_version": "1.2.0",
            "_view_name": "LayoutView",
            "align_content": null,
            "align_items": null,
            "align_self": null,
            "border": null,
            "bottom": null,
            "display": null,
            "flex": null,
            "flex_flow": null,
            "grid_area": null,
            "grid_auto_columns": null,
            "grid_auto_flow": null,
            "grid_auto_rows": null,
            "grid_column": null,
            "grid_gap": null,
            "grid_row": null,
            "grid_template_areas": null,
            "grid_template_columns": null,
            "grid_template_rows": null,
            "height": null,
            "justify_content": null,
            "justify_items": null,
            "left": null,
            "margin": null,
            "max_height": null,
            "max_width": null,
            "min_height": null,
            "min_width": null,
            "object_fit": null,
            "object_position": null,
            "order": null,
            "overflow": null,
            "overflow_x": null,
            "overflow_y": null,
            "padding": null,
            "right": null,
            "top": null,
            "visibility": null,
            "width": null
          }
        },
        "d2f471c769b94d8ba604c23d85c552f2": {
          "model_module": "jupyter-matplotlib",
          "model_name": "ToolbarModel",
          "model_module_version": "^0.11",
          "state": {
            "_current_action": "zoom",
            "_dom_classes": [],
            "_model_module": "jupyter-matplotlib",
            "_model_module_version": "^0.11",
            "_model_name": "ToolbarModel",
            "_view_count": null,
            "_view_module": "jupyter-matplotlib",
            "_view_module_version": "^0.11",
            "_view_name": "ToolbarView",
            "button_style": "",
            "collapsed": true,
            "layout": "IPY_MODEL_43d28cb81d414e85b235829b97a6ed84",
            "orientation": "vertical",
            "toolitems": [
              [
                "Home",
                "Reset original view",
                "home",
                "home"
              ],
              [
                "Back",
                "Back to previous view",
                "arrow-left",
                "back"
              ],
              [
                "Forward",
                "Forward to next view",
                "arrow-right",
                "forward"
              ],
              [
                "Pan",
                "Left button pans, Right button zooms\nx/y fixes axis, CTRL fixes aspect",
                "arrows",
                "pan"
              ],
              [
                "Zoom",
                "Zoom to rectangle\nx/y fixes axis",
                "square-o",
                "zoom"
              ],
              [
                "Download",
                "Download plot",
                "floppy-o",
                "save_figure"
              ]
            ]
          }
        },
        "43d28cb81d414e85b235829b97a6ed84": {
          "model_module": "@jupyter-widgets/base",
          "model_name": "LayoutModel",
          "model_module_version": "1.2.0",
          "state": {
            "_model_module": "@jupyter-widgets/base",
            "_model_module_version": "1.2.0",
            "_model_name": "LayoutModel",
            "_view_count": null,
            "_view_module": "@jupyter-widgets/base",
            "_view_module_version": "1.2.0",
            "_view_name": "LayoutView",
            "align_content": null,
            "align_items": null,
            "align_self": null,
            "border": null,
            "bottom": null,
            "display": null,
            "flex": null,
            "flex_flow": null,
            "grid_area": null,
            "grid_auto_columns": null,
            "grid_auto_flow": null,
            "grid_auto_rows": null,
            "grid_column": null,
            "grid_gap": null,
            "grid_row": null,
            "grid_template_areas": null,
            "grid_template_columns": null,
            "grid_template_rows": null,
            "height": null,
            "justify_content": null,
            "justify_items": null,
            "left": null,
            "margin": null,
            "max_height": null,
            "max_width": null,
            "min_height": null,
            "min_width": null,
            "object_fit": null,
            "object_position": null,
            "order": null,
            "overflow": null,
            "overflow_x": null,
            "overflow_y": null,
            "padding": null,
            "right": null,
            "top": null,
            "visibility": null,
            "width": null
          }
        }
      }
    }
  },
  "nbformat": 4,
  "nbformat_minor": 0
}