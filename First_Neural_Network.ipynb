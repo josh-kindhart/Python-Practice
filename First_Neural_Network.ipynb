{
  "nbformat": 4,
  "nbformat_minor": 0,
  "metadata": {
    "colab": {
      "provenance": [],
      "authorship_tag": "ABX9TyMxFES+XA+RLnt/vZfgopD9",
      "include_colab_link": true
    },
    "kernelspec": {
      "name": "python3",
      "display_name": "Python 3"
    },
    "language_info": {
      "name": "python"
    }
  },
  "cells": [
    {
      "cell_type": "markdown",
      "metadata": {
        "id": "view-in-github",
        "colab_type": "text"
      },
      "source": [
        "<a href=\"https://colab.research.google.com/github/josh-kindhart/Python-Practice/blob/main/First_Neural_Network.ipynb\" target=\"_parent\"><img src=\"https://colab.research.google.com/assets/colab-badge.svg\" alt=\"Open In Colab\"/></a>"
      ]
    },
    {
      "cell_type": "code",
      "source": [
        "import numpy as np\n",
        "import pandas as pd\n",
        "from sklearn.model_selection import train_test_split\n",
        "from sklearn.preprocessing import Normalizer\n",
        "from sklearn.compose import ColumnTransformer\n",
        "import tensorflow as tf\n",
        "from tensorflow.keras.models import Sequential\n",
        "from tensorflow.keras.layers import InputLayer, Dense\n",
        "from tensorflow.keras.optimizers import Adam"
      ],
      "metadata": {
        "id": "JEo9J5NfNDXC"
      },
      "execution_count": 1,
      "outputs": []
    },
    {
      "cell_type": "code",
      "source": [
        "df = pd.read_csv('medical_costs.csv')\n",
        "print(df)"
      ],
      "metadata": {
        "id": "B3kCKbd8NFBM",
        "colab": {
          "base_uri": "https://localhost:8080/"
        },
        "outputId": "377056f2-094d-4696-f33e-985b795f3aed"
      },
      "execution_count": 2,
      "outputs": [
        {
          "output_type": "stream",
          "name": "stdout",
          "text": [
            "      age  sex     bmi  children  smoker     region      charges\n",
            "0      19    1  27.900         0       1  southwest  16884.92400\n",
            "1      18    0  33.770         1       0  southeast   1725.55230\n",
            "2      28    0  33.000         3       0  southeast   4449.46200\n",
            "3      33    0  22.705         0       0   0rthwest  21984.47061\n",
            "4      32    0  28.880         0       0   0rthwest   3866.85520\n",
            "...   ...  ...     ...       ...     ...        ...          ...\n",
            "1333   50    0  30.970         3       0   0rthwest  10600.54830\n",
            "1334   18    1  31.920         0       0   0rtheast   2205.98080\n",
            "1335   18    1  36.850         0       0  southeast   1629.83350\n",
            "1336   21    1  25.800         0       0  southwest   2007.94500\n",
            "1337   61    1  29.070         0       1   0rthwest  29141.36030\n",
            "\n",
            "[1338 rows x 7 columns]\n"
          ]
        }
      ]
    },
    {
      "cell_type": "code",
      "source": [
        "print(df.info())"
      ],
      "metadata": {
        "colab": {
          "base_uri": "https://localhost:8080/"
        },
        "id": "0sCxoLVqNspv",
        "outputId": "29004304-7979-41fe-cb5e-a62188b476e7"
      },
      "execution_count": 3,
      "outputs": [
        {
          "output_type": "stream",
          "name": "stdout",
          "text": [
            "<class 'pandas.core.frame.DataFrame'>\n",
            "RangeIndex: 1338 entries, 0 to 1337\n",
            "Data columns (total 7 columns):\n",
            " #   Column    Non-Null Count  Dtype  \n",
            "---  ------    --------------  -----  \n",
            " 0   age       1338 non-null   int64  \n",
            " 1   sex       1338 non-null   int64  \n",
            " 2   bmi       1338 non-null   float64\n",
            " 3   children  1338 non-null   int64  \n",
            " 4   smoker    1338 non-null   int64  \n",
            " 5   region    1338 non-null   object \n",
            " 6   charges   1338 non-null   float64\n",
            "dtypes: float64(2), int64(4), object(1)\n",
            "memory usage: 73.3+ KB\n",
            "None\n"
          ]
        }
      ]
    },
    {
      "cell_type": "code",
      "source": [
        "print(df.region.unique())"
      ],
      "metadata": {
        "colab": {
          "base_uri": "https://localhost:8080/"
        },
        "id": "trxYGeMlNwy7",
        "outputId": "1f0eafa0-8e1d-4e99-ceb2-cd107385343e"
      },
      "execution_count": 4,
      "outputs": [
        {
          "output_type": "stream",
          "name": "stdout",
          "text": [
            "['southwest' 'southeast' '0rthwest' '0rtheast']\n"
          ]
        }
      ]
    },
    {
      "cell_type": "code",
      "source": [
        "df.replace('0rthwest', 'northwest', inplace=True)\n",
        "df.replace('0rtheast','northeast', inplace=True)\n",
        "\n",
        "df = df.rename(columns={'sex':'gender'})\n",
        "df.gender.replace(1, 'female', inplace=True)\n",
        "df.gender.replace(0, 'male', inplace=True)\n",
        "\n",
        "df.gender = pd.Categorical(df.gender, ['male','female'], ordered=False)\n",
        "df.region = pd.Categorical(df.region, list(df.region.unique()), ordered=False)"
      ],
      "metadata": {
        "id": "c8A14SN7N9Az"
      },
      "execution_count": 5,
      "outputs": []
    },
    {
      "cell_type": "code",
      "source": [
        "features = df.iloc[:, 0:6]\n",
        "labels = df.iloc[:, -1]"
      ],
      "metadata": {
        "id": "s3PZHGTMaKXn"
      },
      "execution_count": 6,
      "outputs": []
    },
    {
      "cell_type": "code",
      "source": [
        "features = pd.get_dummies(features)"
      ],
      "metadata": {
        "id": "cfCk4SuMlsMv"
      },
      "execution_count": 7,
      "outputs": []
    },
    {
      "cell_type": "code",
      "source": [
        "features_train, features_test, labels_train, labels_test = train_test_split(features, labels, test_size=0.33, random_state=42)"
      ],
      "metadata": {
        "id": "Z8H0yG_YbY2S"
      },
      "execution_count": 8,
      "outputs": []
    },
    {
      "cell_type": "code",
      "source": [
        "ct = ColumnTransformer([('normalize', Normalizer(), ['age','bmi','children'])], remainder='passthrough')\n",
        "features_train = ct.fit_transform(features_train)\n",
        "features_test = ct.transform(features_test)"
      ],
      "metadata": {
        "id": "2MOME92Jc478"
      },
      "execution_count": 9,
      "outputs": []
    },
    {
      "cell_type": "code",
      "source": [
        "def design_model(features_train):\n",
        "  model = Sequential(name=\"my_first_neural_network\")\n",
        "  num_features = features_train.shape[1]\n",
        "  input = InputLayer(input_shape=(num_features,))\n",
        "  model.add(input)\n",
        "  model.add(Dense(128, activation='relu'))\n",
        "  model.add(Dense(1))\n",
        "  return model"
      ],
      "metadata": {
        "id": "DdcCmV8Kf4fh"
      },
      "execution_count": 10,
      "outputs": []
    },
    {
      "cell_type": "code",
      "source": [
        "model = design_model(features_train)\n",
        "opt = Adam(learning_rate=0.01)\n",
        "model.compile(loss='mse', metrics=['mae'], optimizer=opt)\n",
        "model.fit(features_train, labels_train, batch_size=1, epochs=100, verbose=1)"
      ],
      "metadata": {
        "colab": {
          "base_uri": "https://localhost:8080/"
        },
        "id": "WzT_Dh4_hCiq",
        "outputId": "38e29d2c-e486-497a-dea0-12efa358bf5a"
      },
      "execution_count": 11,
      "outputs": [
        {
          "output_type": "stream",
          "name": "stdout",
          "text": [
            "Epoch 1/100\n",
            "896/896 [==============================] - 3s 3ms/step - loss: 217135536.0000 - mae: 9945.4346\n",
            "Epoch 2/100\n",
            "896/896 [==============================] - 2s 2ms/step - loss: 122460104.0000 - mae: 8159.0356\n",
            "Epoch 3/100\n",
            "896/896 [==============================] - 2s 2ms/step - loss: 109200440.0000 - mae: 7872.1992\n",
            "Epoch 4/100\n",
            "896/896 [==============================] - 3s 3ms/step - loss: 97468496.0000 - mae: 7388.6177\n",
            "Epoch 5/100\n",
            "896/896 [==============================] - 1s 2ms/step - loss: 86258728.0000 - mae: 7098.4736\n",
            "Epoch 6/100\n",
            "896/896 [==============================] - 1s 1ms/step - loss: 76177456.0000 - mae: 6613.2583\n",
            "Epoch 7/100\n",
            "896/896 [==============================] - 1s 1ms/step - loss: 67643336.0000 - mae: 6353.1753\n",
            "Epoch 8/100\n",
            "896/896 [==============================] - 1s 1ms/step - loss: 61466584.0000 - mae: 5912.5361\n",
            "Epoch 9/100\n",
            "896/896 [==============================] - 1s 1ms/step - loss: 57845204.0000 - mae: 5854.0625\n",
            "Epoch 10/100\n",
            "896/896 [==============================] - 1s 1ms/step - loss: 55461208.0000 - mae: 5624.1812\n",
            "Epoch 11/100\n",
            "896/896 [==============================] - 1s 1ms/step - loss: 54516068.0000 - mae: 5578.0107\n",
            "Epoch 12/100\n",
            "896/896 [==============================] - 1s 1ms/step - loss: 53865512.0000 - mae: 5462.5991\n",
            "Epoch 13/100\n",
            "896/896 [==============================] - 1s 1ms/step - loss: 53475324.0000 - mae: 5401.2314\n",
            "Epoch 14/100\n",
            "896/896 [==============================] - 1s 1ms/step - loss: 53147796.0000 - mae: 5366.4136\n",
            "Epoch 15/100\n",
            "896/896 [==============================] - 1s 1ms/step - loss: 52899460.0000 - mae: 5317.4302\n",
            "Epoch 16/100\n",
            "896/896 [==============================] - 1s 1ms/step - loss: 52699672.0000 - mae: 5281.2026\n",
            "Epoch 17/100\n",
            "896/896 [==============================] - 1s 1ms/step - loss: 52134752.0000 - mae: 5236.5288\n",
            "Epoch 18/100\n",
            "896/896 [==============================] - 1s 1ms/step - loss: 52745896.0000 - mae: 5282.3091\n",
            "Epoch 19/100\n",
            "896/896 [==============================] - 1s 1ms/step - loss: 52392412.0000 - mae: 5203.5991\n",
            "Epoch 20/100\n",
            "896/896 [==============================] - 1s 1ms/step - loss: 52200896.0000 - mae: 5210.8276\n",
            "Epoch 21/100\n",
            "896/896 [==============================] - 1s 1ms/step - loss: 52129412.0000 - mae: 5182.6392\n",
            "Epoch 22/100\n",
            "896/896 [==============================] - 1s 1ms/step - loss: 52062764.0000 - mae: 5199.3047\n",
            "Epoch 23/100\n",
            "896/896 [==============================] - 1s 1ms/step - loss: 51955720.0000 - mae: 5151.8511\n",
            "Epoch 24/100\n",
            "896/896 [==============================] - 1s 1ms/step - loss: 51981836.0000 - mae: 5178.5439\n",
            "Epoch 25/100\n",
            "896/896 [==============================] - 1s 1ms/step - loss: 51803384.0000 - mae: 5121.5806\n",
            "Epoch 26/100\n",
            "896/896 [==============================] - 1s 1ms/step - loss: 51825996.0000 - mae: 5174.3491\n",
            "Epoch 27/100\n",
            "896/896 [==============================] - 1s 1ms/step - loss: 51760764.0000 - mae: 5097.8179\n",
            "Epoch 28/100\n",
            "896/896 [==============================] - 1s 1ms/step - loss: 51810380.0000 - mae: 5153.5479\n",
            "Epoch 29/100\n",
            "896/896 [==============================] - 1s 1ms/step - loss: 51603580.0000 - mae: 5083.2510\n",
            "Epoch 30/100\n",
            "896/896 [==============================] - 1s 1ms/step - loss: 51604812.0000 - mae: 5135.4224\n",
            "Epoch 31/100\n",
            "896/896 [==============================] - 1s 1ms/step - loss: 51688284.0000 - mae: 5115.3208\n",
            "Epoch 32/100\n",
            "896/896 [==============================] - 1s 1ms/step - loss: 51623916.0000 - mae: 5071.7554\n",
            "Epoch 33/100\n",
            "896/896 [==============================] - 1s 1ms/step - loss: 51720740.0000 - mae: 5074.0312\n",
            "Epoch 34/100\n",
            "896/896 [==============================] - 1s 1ms/step - loss: 51636092.0000 - mae: 5099.1108\n",
            "Epoch 35/100\n",
            "896/896 [==============================] - 1s 1ms/step - loss: 51744756.0000 - mae: 5070.9673\n",
            "Epoch 36/100\n",
            "896/896 [==============================] - 1s 1ms/step - loss: 51613208.0000 - mae: 5064.3960\n",
            "Epoch 37/100\n",
            "896/896 [==============================] - 1s 1ms/step - loss: 51477444.0000 - mae: 5098.0391\n",
            "Epoch 38/100\n",
            "896/896 [==============================] - 1s 1ms/step - loss: 51653188.0000 - mae: 5039.6294\n",
            "Epoch 39/100\n",
            "896/896 [==============================] - 1s 1ms/step - loss: 51391948.0000 - mae: 5056.2471\n",
            "Epoch 40/100\n",
            "896/896 [==============================] - 1s 1ms/step - loss: 51596076.0000 - mae: 5072.9233\n",
            "Epoch 41/100\n",
            "896/896 [==============================] - 1s 1ms/step - loss: 51581728.0000 - mae: 5082.7407\n",
            "Epoch 42/100\n",
            "896/896 [==============================] - 1s 1ms/step - loss: 51666440.0000 - mae: 5033.2593\n",
            "Epoch 43/100\n",
            "896/896 [==============================] - 1s 1ms/step - loss: 51587308.0000 - mae: 5046.5400\n",
            "Epoch 44/100\n",
            "896/896 [==============================] - 1s 1ms/step - loss: 51330568.0000 - mae: 5013.5083\n",
            "Epoch 45/100\n",
            "896/896 [==============================] - 1s 1ms/step - loss: 51742700.0000 - mae: 5074.9717\n",
            "Epoch 46/100\n",
            "896/896 [==============================] - 1s 1ms/step - loss: 51480908.0000 - mae: 5039.9819\n",
            "Epoch 47/100\n",
            "896/896 [==============================] - 1s 1ms/step - loss: 51557016.0000 - mae: 5067.4502\n",
            "Epoch 48/100\n",
            "896/896 [==============================] - 1s 1ms/step - loss: 51487556.0000 - mae: 5047.0557\n",
            "Epoch 49/100\n",
            "896/896 [==============================] - 1s 1ms/step - loss: 51613124.0000 - mae: 5032.1567\n",
            "Epoch 50/100\n",
            "896/896 [==============================] - 1s 1ms/step - loss: 51544968.0000 - mae: 5049.5664\n",
            "Epoch 51/100\n",
            "896/896 [==============================] - 1s 1ms/step - loss: 51472708.0000 - mae: 5064.8701\n",
            "Epoch 52/100\n",
            "896/896 [==============================] - 1s 1ms/step - loss: 51551996.0000 - mae: 5037.3657\n",
            "Epoch 53/100\n",
            "896/896 [==============================] - 1s 1ms/step - loss: 51568604.0000 - mae: 5000.7686\n",
            "Epoch 54/100\n",
            "896/896 [==============================] - 1s 1ms/step - loss: 51597868.0000 - mae: 5062.0537\n",
            "Epoch 55/100\n",
            "896/896 [==============================] - 1s 1ms/step - loss: 51505468.0000 - mae: 4990.3862\n",
            "Epoch 56/100\n",
            "896/896 [==============================] - 1s 1ms/step - loss: 51621684.0000 - mae: 5068.2695\n",
            "Epoch 57/100\n",
            "896/896 [==============================] - 1s 1ms/step - loss: 51477048.0000 - mae: 5021.6362\n",
            "Epoch 58/100\n",
            "896/896 [==============================] - 1s 1ms/step - loss: 51525356.0000 - mae: 5063.6919\n",
            "Epoch 59/100\n",
            "896/896 [==============================] - 1s 1ms/step - loss: 51528352.0000 - mae: 5030.4463\n",
            "Epoch 60/100\n",
            "896/896 [==============================] - 1s 1ms/step - loss: 51565180.0000 - mae: 5015.6548\n",
            "Epoch 61/100\n",
            "896/896 [==============================] - 1s 1ms/step - loss: 51471208.0000 - mae: 5025.2241\n",
            "Epoch 62/100\n",
            "896/896 [==============================] - 1s 1ms/step - loss: 51547996.0000 - mae: 5055.6787\n",
            "Epoch 63/100\n",
            "896/896 [==============================] - 1s 1ms/step - loss: 51399548.0000 - mae: 4990.9194\n",
            "Epoch 64/100\n",
            "896/896 [==============================] - 1s 1ms/step - loss: 51682848.0000 - mae: 5086.4985\n",
            "Epoch 65/100\n",
            "896/896 [==============================] - 1s 1ms/step - loss: 51416900.0000 - mae: 5011.9604\n",
            "Epoch 66/100\n",
            "896/896 [==============================] - 1s 1ms/step - loss: 51525336.0000 - mae: 5035.6187\n",
            "Epoch 67/100\n",
            "896/896 [==============================] - 1s 1ms/step - loss: 51579124.0000 - mae: 5027.8687\n",
            "Epoch 68/100\n",
            "896/896 [==============================] - 1s 1ms/step - loss: 51515620.0000 - mae: 5054.1328\n",
            "Epoch 69/100\n",
            "896/896 [==============================] - 1s 1ms/step - loss: 51596380.0000 - mae: 5006.4087\n",
            "Epoch 70/100\n",
            "896/896 [==============================] - 1s 1ms/step - loss: 51452068.0000 - mae: 5044.9985\n",
            "Epoch 71/100\n",
            "896/896 [==============================] - 1s 1ms/step - loss: 51475480.0000 - mae: 5057.2734\n",
            "Epoch 72/100\n",
            "896/896 [==============================] - 1s 1ms/step - loss: 51487028.0000 - mae: 5030.7188\n",
            "Epoch 73/100\n",
            "896/896 [==============================] - 1s 1ms/step - loss: 51520476.0000 - mae: 5007.2783\n",
            "Epoch 74/100\n",
            "896/896 [==============================] - 1s 1ms/step - loss: 51445664.0000 - mae: 5052.2100\n",
            "Epoch 75/100\n",
            "896/896 [==============================] - 1s 1ms/step - loss: 51554952.0000 - mae: 5016.6064\n",
            "Epoch 76/100\n",
            "896/896 [==============================] - 1s 1ms/step - loss: 51537704.0000 - mae: 5023.4771\n",
            "Epoch 77/100\n",
            "896/896 [==============================] - 1s 1ms/step - loss: 51572892.0000 - mae: 5019.0571\n",
            "Epoch 78/100\n",
            "896/896 [==============================] - 1s 1ms/step - loss: 51471392.0000 - mae: 5043.6743\n",
            "Epoch 79/100\n",
            "896/896 [==============================] - 1s 1ms/step - loss: 51390600.0000 - mae: 5040.7056\n",
            "Epoch 80/100\n",
            "896/896 [==============================] - 1s 1ms/step - loss: 51697856.0000 - mae: 5007.0542\n",
            "Epoch 81/100\n",
            "896/896 [==============================] - 1s 1ms/step - loss: 51511240.0000 - mae: 5028.1362\n",
            "Epoch 82/100\n",
            "896/896 [==============================] - 1s 1ms/step - loss: 51510696.0000 - mae: 5010.5864\n",
            "Epoch 83/100\n",
            "896/896 [==============================] - 1s 1ms/step - loss: 51556504.0000 - mae: 5016.7349\n",
            "Epoch 84/100\n",
            "896/896 [==============================] - 1s 1ms/step - loss: 51500968.0000 - mae: 5050.1729\n",
            "Epoch 85/100\n",
            "896/896 [==============================] - 1s 1ms/step - loss: 51477496.0000 - mae: 5037.2354\n",
            "Epoch 86/100\n",
            "896/896 [==============================] - 1s 1ms/step - loss: 51522936.0000 - mae: 5015.1001\n",
            "Epoch 87/100\n",
            "896/896 [==============================] - 1s 1ms/step - loss: 51454592.0000 - mae: 5061.3696\n",
            "Epoch 88/100\n",
            "896/896 [==============================] - 1s 1ms/step - loss: 51552000.0000 - mae: 5021.3267\n",
            "Epoch 89/100\n",
            "896/896 [==============================] - 1s 1ms/step - loss: 51643764.0000 - mae: 5030.7852\n",
            "Epoch 90/100\n",
            "896/896 [==============================] - 1s 1ms/step - loss: 51577144.0000 - mae: 5021.4351\n",
            "Epoch 91/100\n",
            "896/896 [==============================] - 1s 1ms/step - loss: 51341632.0000 - mae: 5007.6567\n",
            "Epoch 92/100\n",
            "896/896 [==============================] - 1s 1ms/step - loss: 51509344.0000 - mae: 4999.6719\n",
            "Epoch 93/100\n",
            "896/896 [==============================] - 1s 1ms/step - loss: 51272356.0000 - mae: 5048.6484\n",
            "Epoch 94/100\n",
            "896/896 [==============================] - 1s 1ms/step - loss: 51443580.0000 - mae: 4981.4575\n",
            "Epoch 95/100\n",
            "896/896 [==============================] - 1s 1ms/step - loss: 51545952.0000 - mae: 5022.6147\n",
            "Epoch 96/100\n",
            "896/896 [==============================] - 1s 1ms/step - loss: 51694248.0000 - mae: 5025.3037\n",
            "Epoch 97/100\n",
            "896/896 [==============================] - 1s 1ms/step - loss: 51621492.0000 - mae: 5031.1631\n",
            "Epoch 98/100\n",
            "896/896 [==============================] - 1s 1ms/step - loss: 51483180.0000 - mae: 5027.7295\n",
            "Epoch 99/100\n",
            "896/896 [==============================] - 1s 1ms/step - loss: 51544232.0000 - mae: 5025.1060\n",
            "Epoch 100/100\n",
            "896/896 [==============================] - 1s 1ms/step - loss: 51289740.0000 - mae: 5046.1626\n"
          ]
        },
        {
          "output_type": "execute_result",
          "data": {
            "text/plain": [
              "<keras.callbacks.History at 0x7985e4c01e70>"
            ]
          },
          "metadata": {},
          "execution_count": 11
        }
      ]
    },
    {
      "cell_type": "code",
      "source": [
        "val_mse, val_mae = model.evaluate(features_test, labels_test, verbose=1)"
      ],
      "metadata": {
        "colab": {
          "base_uri": "https://localhost:8080/"
        },
        "id": "QPqcEiocj8Tm",
        "outputId": "1b94736e-65f2-4d03-fc41-61acbc516cf5"
      },
      "execution_count": 12,
      "outputs": [
        {
          "output_type": "stream",
          "name": "stdout",
          "text": [
            "14/14 [==============================] - 0s 1ms/step - loss: 48277648.0000 - mae: 4742.0254\n"
          ]
        }
      ]
    },
    {
      "cell_type": "code",
      "source": [
        "print(f'MSE: {val_mse}, MAE: {val_mae}')"
      ],
      "metadata": {
        "colab": {
          "base_uri": "https://localhost:8080/"
        },
        "id": "4v_rXx4OmRTC",
        "outputId": "ca8b64ed-8a79-423d-ecb8-cf21b665bf2d"
      },
      "execution_count": 13,
      "outputs": [
        {
          "output_type": "stream",
          "name": "stdout",
          "text": [
            "MSE: 48277648.0, MAE: 4742.025390625\n"
          ]
        }
      ]
    },
    {
      "cell_type": "code",
      "source": [
        "print(model.summary())"
      ],
      "metadata": {
        "colab": {
          "base_uri": "https://localhost:8080/"
        },
        "id": "Pnt_AfAImk53",
        "outputId": "93b4ce5d-be1c-4d26-f5ee-bfeb35a65748"
      },
      "execution_count": 14,
      "outputs": [
        {
          "output_type": "stream",
          "name": "stdout",
          "text": [
            "Model: \"my_first_neural_network\"\n",
            "_________________________________________________________________\n",
            " Layer (type)                Output Shape              Param #   \n",
            "=================================================================\n",
            " dense (Dense)               (None, 128)               1408      \n",
            "                                                                 \n",
            " dense_1 (Dense)             (None, 1)                 129       \n",
            "                                                                 \n",
            "=================================================================\n",
            "Total params: 1,537\n",
            "Trainable params: 1,537\n",
            "Non-trainable params: 0\n",
            "_________________________________________________________________\n",
            "None\n"
          ]
        }
      ]
    },
    {
      "cell_type": "code",
      "source": [],
      "metadata": {
        "id": "4WoqCllomusm"
      },
      "execution_count": 14,
      "outputs": []
    }
  ]
}