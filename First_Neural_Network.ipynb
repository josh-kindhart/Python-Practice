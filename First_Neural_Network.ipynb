{
  "nbformat": 4,
  "nbformat_minor": 0,
  "metadata": {
    "colab": {
      "provenance": [],
      "authorship_tag": "ABX9TyNvCGqhwT3iWjhdmERmUQia",
      "include_colab_link": true
    },
    "kernelspec": {
      "name": "python3",
      "display_name": "Python 3"
    },
    "language_info": {
      "name": "python"
    }
  },
  "cells": [
    {
      "cell_type": "markdown",
      "metadata": {
        "id": "view-in-github",
        "colab_type": "text"
      },
      "source": [
        "<a href=\"https://colab.research.google.com/github/josh-kindhart/Python-Practice/blob/main/First_Neural_Network.ipynb\" target=\"_parent\"><img src=\"https://colab.research.google.com/assets/colab-badge.svg\" alt=\"Open In Colab\"/></a>"
      ]
    },
    {
      "cell_type": "code",
      "source": [
        "!pip install tensorflow\n",
        "!pip install keras\n",
        "import numpy as np\n",
        "import pandas as pd\n",
        "pd.set_option('display.max_rows', 1500)\n",
        "import matplotlib.pyplot as plt\n",
        "from sklearn.model_selection import train_test_split\n",
        "from sklearn.preprocessing import Normalizer\n",
        "from sklearn.compose import ColumnTransformer\n",
        "import tensorflow as tf\n",
        "from tensorflow.keras.models import Sequential\n",
        "from tensorflow.keras.layers import InputLayer, Dense\n",
        "from tensorflow.keras.optimizers import Adam"
      ],
      "metadata": {
        "id": "JEo9J5NfNDXC"
      },
      "execution_count": 1,
      "outputs": []
    },
    {
      "cell_type": "code",
      "source": [
        "df = pd.read_csv('medical_costs.csv')"
      ],
      "metadata": {
        "id": "B3kCKbd8NFBM"
      },
      "execution_count": 2,
      "outputs": []
    },
    {
      "cell_type": "code",
      "source": [
        "display(df.head())"
      ],
      "metadata": {
        "colab": {
          "base_uri": "https://localhost:8080/",
          "height": 206
        },
        "id": "5yAyJ9adNJAu",
        "outputId": "492d6658-189c-4eba-ad4d-f3c319368506"
      },
      "execution_count": 3,
      "outputs": [
        {
          "output_type": "display_data",
          "data": {
            "text/plain": [
              "   age  sex     bmi  children  smoker     region      charges\n",
              "0   19    1  27.900         0       1  southwest  16884.92400\n",
              "1   18    0  33.770         1       0  southeast   1725.55230\n",
              "2   28    0  33.000         3       0  southeast   4449.46200\n",
              "3   33    0  22.705         0       0   0rthwest  21984.47061\n",
              "4   32    0  28.880         0       0   0rthwest   3866.85520"
            ],
            "text/html": [
              "\n",
              "  <div id=\"df-dd52fc38-64c6-48d4-8734-e26956c7b4ef\" class=\"colab-df-container\">\n",
              "    <div>\n",
              "<style scoped>\n",
              "    .dataframe tbody tr th:only-of-type {\n",
              "        vertical-align: middle;\n",
              "    }\n",
              "\n",
              "    .dataframe tbody tr th {\n",
              "        vertical-align: top;\n",
              "    }\n",
              "\n",
              "    .dataframe thead th {\n",
              "        text-align: right;\n",
              "    }\n",
              "</style>\n",
              "<table border=\"1\" class=\"dataframe\">\n",
              "  <thead>\n",
              "    <tr style=\"text-align: right;\">\n",
              "      <th></th>\n",
              "      <th>age</th>\n",
              "      <th>sex</th>\n",
              "      <th>bmi</th>\n",
              "      <th>children</th>\n",
              "      <th>smoker</th>\n",
              "      <th>region</th>\n",
              "      <th>charges</th>\n",
              "    </tr>\n",
              "  </thead>\n",
              "  <tbody>\n",
              "    <tr>\n",
              "      <th>0</th>\n",
              "      <td>19</td>\n",
              "      <td>1</td>\n",
              "      <td>27.900</td>\n",
              "      <td>0</td>\n",
              "      <td>1</td>\n",
              "      <td>southwest</td>\n",
              "      <td>16884.92400</td>\n",
              "    </tr>\n",
              "    <tr>\n",
              "      <th>1</th>\n",
              "      <td>18</td>\n",
              "      <td>0</td>\n",
              "      <td>33.770</td>\n",
              "      <td>1</td>\n",
              "      <td>0</td>\n",
              "      <td>southeast</td>\n",
              "      <td>1725.55230</td>\n",
              "    </tr>\n",
              "    <tr>\n",
              "      <th>2</th>\n",
              "      <td>28</td>\n",
              "      <td>0</td>\n",
              "      <td>33.000</td>\n",
              "      <td>3</td>\n",
              "      <td>0</td>\n",
              "      <td>southeast</td>\n",
              "      <td>4449.46200</td>\n",
              "    </tr>\n",
              "    <tr>\n",
              "      <th>3</th>\n",
              "      <td>33</td>\n",
              "      <td>0</td>\n",
              "      <td>22.705</td>\n",
              "      <td>0</td>\n",
              "      <td>0</td>\n",
              "      <td>0rthwest</td>\n",
              "      <td>21984.47061</td>\n",
              "    </tr>\n",
              "    <tr>\n",
              "      <th>4</th>\n",
              "      <td>32</td>\n",
              "      <td>0</td>\n",
              "      <td>28.880</td>\n",
              "      <td>0</td>\n",
              "      <td>0</td>\n",
              "      <td>0rthwest</td>\n",
              "      <td>3866.85520</td>\n",
              "    </tr>\n",
              "  </tbody>\n",
              "</table>\n",
              "</div>\n",
              "    <div class=\"colab-df-buttons\">\n",
              "\n",
              "  <div class=\"colab-df-container\">\n",
              "    <button class=\"colab-df-convert\" onclick=\"convertToInteractive('df-dd52fc38-64c6-48d4-8734-e26956c7b4ef')\"\n",
              "            title=\"Convert this dataframe to an interactive table.\"\n",
              "            style=\"display:none;\">\n",
              "\n",
              "  <svg xmlns=\"http://www.w3.org/2000/svg\" height=\"24px\" viewBox=\"0 -960 960 960\">\n",
              "    <path d=\"M120-120v-720h720v720H120Zm60-500h600v-160H180v160Zm220 220h160v-160H400v160Zm0 220h160v-160H400v160ZM180-400h160v-160H180v160Zm440 0h160v-160H620v160ZM180-180h160v-160H180v160Zm440 0h160v-160H620v160Z\"/>\n",
              "  </svg>\n",
              "    </button>\n",
              "\n",
              "  <style>\n",
              "    .colab-df-container {\n",
              "      display:flex;\n",
              "      gap: 12px;\n",
              "    }\n",
              "\n",
              "    .colab-df-convert {\n",
              "      background-color: #E8F0FE;\n",
              "      border: none;\n",
              "      border-radius: 50%;\n",
              "      cursor: pointer;\n",
              "      display: none;\n",
              "      fill: #1967D2;\n",
              "      height: 32px;\n",
              "      padding: 0 0 0 0;\n",
              "      width: 32px;\n",
              "    }\n",
              "\n",
              "    .colab-df-convert:hover {\n",
              "      background-color: #E2EBFA;\n",
              "      box-shadow: 0px 1px 2px rgba(60, 64, 67, 0.3), 0px 1px 3px 1px rgba(60, 64, 67, 0.15);\n",
              "      fill: #174EA6;\n",
              "    }\n",
              "\n",
              "    .colab-df-buttons div {\n",
              "      margin-bottom: 4px;\n",
              "    }\n",
              "\n",
              "    [theme=dark] .colab-df-convert {\n",
              "      background-color: #3B4455;\n",
              "      fill: #D2E3FC;\n",
              "    }\n",
              "\n",
              "    [theme=dark] .colab-df-convert:hover {\n",
              "      background-color: #434B5C;\n",
              "      box-shadow: 0px 1px 3px 1px rgba(0, 0, 0, 0.15);\n",
              "      filter: drop-shadow(0px 1px 2px rgba(0, 0, 0, 0.3));\n",
              "      fill: #FFFFFF;\n",
              "    }\n",
              "  </style>\n",
              "\n",
              "    <script>\n",
              "      const buttonEl =\n",
              "        document.querySelector('#df-dd52fc38-64c6-48d4-8734-e26956c7b4ef button.colab-df-convert');\n",
              "      buttonEl.style.display =\n",
              "        google.colab.kernel.accessAllowed ? 'block' : 'none';\n",
              "\n",
              "      async function convertToInteractive(key) {\n",
              "        const element = document.querySelector('#df-dd52fc38-64c6-48d4-8734-e26956c7b4ef');\n",
              "        const dataTable =\n",
              "          await google.colab.kernel.invokeFunction('convertToInteractive',\n",
              "                                                    [key], {});\n",
              "        if (!dataTable) return;\n",
              "\n",
              "        const docLinkHtml = 'Like what you see? Visit the ' +\n",
              "          '<a target=\"_blank\" href=https://colab.research.google.com/notebooks/data_table.ipynb>data table notebook</a>'\n",
              "          + ' to learn more about interactive tables.';\n",
              "        element.innerHTML = '';\n",
              "        dataTable['output_type'] = 'display_data';\n",
              "        await google.colab.output.renderOutput(dataTable, element);\n",
              "        const docLink = document.createElement('div');\n",
              "        docLink.innerHTML = docLinkHtml;\n",
              "        element.appendChild(docLink);\n",
              "      }\n",
              "    </script>\n",
              "  </div>\n",
              "\n",
              "\n",
              "<div id=\"df-28e567dd-8415-47c6-8b68-03f9cb78a6ac\">\n",
              "  <button class=\"colab-df-quickchart\" onclick=\"quickchart('df-28e567dd-8415-47c6-8b68-03f9cb78a6ac')\"\n",
              "            title=\"Suggest charts.\"\n",
              "            style=\"display:none;\">\n",
              "\n",
              "<svg xmlns=\"http://www.w3.org/2000/svg\" height=\"24px\"viewBox=\"0 0 24 24\"\n",
              "     width=\"24px\">\n",
              "    <g>\n",
              "        <path d=\"M19 3H5c-1.1 0-2 .9-2 2v14c0 1.1.9 2 2 2h14c1.1 0 2-.9 2-2V5c0-1.1-.9-2-2-2zM9 17H7v-7h2v7zm4 0h-2V7h2v10zm4 0h-2v-4h2v4z\"/>\n",
              "    </g>\n",
              "</svg>\n",
              "  </button>\n",
              "\n",
              "<style>\n",
              "  .colab-df-quickchart {\n",
              "    background-color: #E8F0FE;\n",
              "    border: none;\n",
              "    border-radius: 50%;\n",
              "    cursor: pointer;\n",
              "    display: none;\n",
              "    fill: #1967D2;\n",
              "    height: 32px;\n",
              "    padding: 0 0 0 0;\n",
              "    width: 32px;\n",
              "  }\n",
              "\n",
              "  .colab-df-quickchart:hover {\n",
              "    background-color: #E2EBFA;\n",
              "    box-shadow: 0px 1px 2px rgba(60, 64, 67, 0.3), 0px 1px 3px 1px rgba(60, 64, 67, 0.15);\n",
              "    fill: #174EA6;\n",
              "  }\n",
              "\n",
              "  [theme=dark] .colab-df-quickchart {\n",
              "    background-color: #3B4455;\n",
              "    fill: #D2E3FC;\n",
              "  }\n",
              "\n",
              "  [theme=dark] .colab-df-quickchart:hover {\n",
              "    background-color: #434B5C;\n",
              "    box-shadow: 0px 1px 3px 1px rgba(0, 0, 0, 0.15);\n",
              "    filter: drop-shadow(0px 1px 2px rgba(0, 0, 0, 0.3));\n",
              "    fill: #FFFFFF;\n",
              "  }\n",
              "</style>\n",
              "\n",
              "  <script>\n",
              "    async function quickchart(key) {\n",
              "      const charts = await google.colab.kernel.invokeFunction(\n",
              "          'suggestCharts', [key], {});\n",
              "    }\n",
              "    (() => {\n",
              "      let quickchartButtonEl =\n",
              "        document.querySelector('#df-28e567dd-8415-47c6-8b68-03f9cb78a6ac button');\n",
              "      quickchartButtonEl.style.display =\n",
              "        google.colab.kernel.accessAllowed ? 'block' : 'none';\n",
              "    })();\n",
              "  </script>\n",
              "</div>\n",
              "    </div>\n",
              "  </div>\n"
            ]
          },
          "metadata": {}
        }
      ]
    },
    {
      "cell_type": "code",
      "source": [
        "print(df.info())"
      ],
      "metadata": {
        "colab": {
          "base_uri": "https://localhost:8080/"
        },
        "id": "0sCxoLVqNspv",
        "outputId": "4dbf8480-6862-414c-be80-ff9563aa3314"
      },
      "execution_count": 4,
      "outputs": [
        {
          "output_type": "stream",
          "name": "stdout",
          "text": [
            "<class 'pandas.core.frame.DataFrame'>\n",
            "RangeIndex: 1338 entries, 0 to 1337\n",
            "Data columns (total 7 columns):\n",
            " #   Column    Non-Null Count  Dtype  \n",
            "---  ------    --------------  -----  \n",
            " 0   age       1338 non-null   int64  \n",
            " 1   sex       1338 non-null   int64  \n",
            " 2   bmi       1338 non-null   float64\n",
            " 3   children  1338 non-null   int64  \n",
            " 4   smoker    1338 non-null   int64  \n",
            " 5   region    1338 non-null   object \n",
            " 6   charges   1338 non-null   float64\n",
            "dtypes: float64(2), int64(4), object(1)\n",
            "memory usage: 73.3+ KB\n",
            "None\n"
          ]
        }
      ]
    },
    {
      "cell_type": "code",
      "source": [
        "print(df.region.unique())"
      ],
      "metadata": {
        "colab": {
          "base_uri": "https://localhost:8080/"
        },
        "id": "trxYGeMlNwy7",
        "outputId": "2c94ed2d-0c1f-4d48-9e91-23c36ef41055"
      },
      "execution_count": 5,
      "outputs": [
        {
          "output_type": "stream",
          "name": "stdout",
          "text": [
            "['southwest' 'southeast' '0rthwest' '0rtheast']\n"
          ]
        }
      ]
    },
    {
      "cell_type": "code",
      "source": [
        "df.replace('0rthwest', 'northwest', inplace=True)\n",
        "df.replace('0rtheast','northeast', inplace=True)\n",
        "\n",
        "df.sex.replace(1, 'female', inplace=True)\n",
        "df.sex.replace(0, 'male', inplace=True)\n",
        "\n",
        "df.sex = pd.Categorical(df.sex, ['male','female'], ordered=False)\n",
        "df.region = pd.Categorical(df.region, list(df.region.unique()), ordered=False)"
      ],
      "metadata": {
        "id": "c8A14SN7N9Az"
      },
      "execution_count": 6,
      "outputs": []
    },
    {
      "cell_type": "code",
      "source": [
        "features = df.iloc[:, 0:6]\n",
        "labels = df.iloc[:, -1]"
      ],
      "metadata": {
        "id": "s3PZHGTMaKXn"
      },
      "execution_count": 7,
      "outputs": []
    },
    {
      "cell_type": "code",
      "source": [
        "features = pd.get_dummies(features)"
      ],
      "metadata": {
        "id": "cfCk4SuMlsMv"
      },
      "execution_count": 8,
      "outputs": []
    },
    {
      "cell_type": "code",
      "source": [
        "features_train, features_test, labels_train, labels_test = train_test_split(features, labels, test_size=0.33, random_state=42)"
      ],
      "metadata": {
        "id": "Z8H0yG_YbY2S"
      },
      "execution_count": 9,
      "outputs": []
    },
    {
      "cell_type": "code",
      "source": [
        "ct = ColumnTransformer([('normalize', Normalizer(), ['age','bmi','children'])], remainder='passthrough')\n",
        "features_train = ct.fit_transform(features_train)\n",
        "features_test = ct.transform(features_test)"
      ],
      "metadata": {
        "id": "2MOME92Jc478"
      },
      "execution_count": 10,
      "outputs": []
    },
    {
      "cell_type": "code",
      "source": [
        "def design_model(features_train):\n",
        "  model = Sequential(name=\"myfirstmodel\")\n",
        "  num_features = features_train.shape[1]\n",
        "  input = InputLayer(input_shape=(num_features,))\n",
        "  model.add(input)\n",
        "  model.add(Dense(128, activation = 'relu'))\n",
        "  model.add(Dense(1))\n",
        "  return model"
      ],
      "metadata": {
        "id": "DdcCmV8Kf4fh"
      },
      "execution_count": 11,
      "outputs": []
    },
    {
      "cell_type": "code",
      "source": [
        "model = design_model(features_train)\n",
        "opt = Adam(learning_rate=0.01)\n",
        "model.compile(loss='mse', metrics=['mae'], optimizer=opt)\n",
        "model.fit(features_train, labels_train, batch_size=1, epochs=40)"
      ],
      "metadata": {
        "colab": {
          "base_uri": "https://localhost:8080/"
        },
        "id": "WzT_Dh4_hCiq",
        "outputId": "564c4c44-793f-4266-9af4-f8b8e654c5ea"
      },
      "execution_count": 12,
      "outputs": [
        {
          "output_type": "stream",
          "name": "stdout",
          "text": [
            "Epoch 1/40\n",
            "896/896 [==============================] - 3s 2ms/step - loss: 213235616.0000 - mae: 9814.1396\n",
            "Epoch 2/40\n",
            "896/896 [==============================] - 2s 2ms/step - loss: 121876728.0000 - mae: 8177.8550\n",
            "Epoch 3/40\n",
            "896/896 [==============================] - 2s 2ms/step - loss: 108390208.0000 - mae: 7733.2798\n",
            "Epoch 4/40\n",
            "896/896 [==============================] - 2s 2ms/step - loss: 96242800.0000 - mae: 7418.9829\n",
            "Epoch 5/40\n",
            "896/896 [==============================] - 2s 2ms/step - loss: 84712760.0000 - mae: 7064.1143\n",
            "Epoch 6/40\n",
            "896/896 [==============================] - 2s 2ms/step - loss: 74719896.0000 - mae: 6527.3232\n",
            "Epoch 7/40\n",
            "896/896 [==============================] - 2s 2ms/step - loss: 66366248.0000 - mae: 6230.8760\n",
            "Epoch 8/40\n",
            "896/896 [==============================] - 2s 3ms/step - loss: 60647808.0000 - mae: 6008.3794\n",
            "Epoch 9/40\n",
            "896/896 [==============================] - 2s 3ms/step - loss: 57140800.0000 - mae: 5745.4971\n",
            "Epoch 10/40\n",
            "896/896 [==============================] - 2s 2ms/step - loss: 55209060.0000 - mae: 5602.4292\n",
            "Epoch 11/40\n",
            "896/896 [==============================] - 1s 1ms/step - loss: 54195884.0000 - mae: 5509.1445\n",
            "Epoch 12/40\n",
            "896/896 [==============================] - 1s 1ms/step - loss: 53756760.0000 - mae: 5437.9907\n",
            "Epoch 13/40\n",
            "896/896 [==============================] - 1s 1ms/step - loss: 53433820.0000 - mae: 5402.6367\n",
            "Epoch 14/40\n",
            "896/896 [==============================] - 1s 1ms/step - loss: 53222656.0000 - mae: 5357.4971\n",
            "Epoch 15/40\n",
            "896/896 [==============================] - 1s 1ms/step - loss: 53020780.0000 - mae: 5312.6377\n",
            "Epoch 16/40\n",
            "896/896 [==============================] - 1s 1ms/step - loss: 52613812.0000 - mae: 5281.4331\n",
            "Epoch 17/40\n",
            "896/896 [==============================] - 1s 1ms/step - loss: 52490884.0000 - mae: 5269.2920\n",
            "Epoch 18/40\n",
            "896/896 [==============================] - 1s 1ms/step - loss: 52381964.0000 - mae: 5221.5747\n",
            "Epoch 19/40\n",
            "896/896 [==============================] - 1s 1ms/step - loss: 52436996.0000 - mae: 5234.6763\n",
            "Epoch 20/40\n",
            "896/896 [==============================] - 1s 1ms/step - loss: 52171064.0000 - mae: 5189.8945\n",
            "Epoch 21/40\n",
            "896/896 [==============================] - 1s 1ms/step - loss: 52202392.0000 - mae: 5193.3013\n",
            "Epoch 22/40\n",
            "896/896 [==============================] - 1s 1ms/step - loss: 51949500.0000 - mae: 5172.0210\n",
            "Epoch 23/40\n",
            "896/896 [==============================] - 1s 1ms/step - loss: 51987528.0000 - mae: 5157.7817\n",
            "Epoch 24/40\n",
            "896/896 [==============================] - 1s 1ms/step - loss: 52038168.0000 - mae: 5144.8052\n",
            "Epoch 25/40\n",
            "896/896 [==============================] - 1s 1ms/step - loss: 51748508.0000 - mae: 5135.7656\n",
            "Epoch 26/40\n",
            "896/896 [==============================] - 1s 1ms/step - loss: 51931296.0000 - mae: 5154.3115\n",
            "Epoch 27/40\n",
            "896/896 [==============================] - 1s 1ms/step - loss: 51837540.0000 - mae: 5115.3267\n",
            "Epoch 28/40\n",
            "896/896 [==============================] - 1s 1ms/step - loss: 51838244.0000 - mae: 5093.9834\n",
            "Epoch 29/40\n",
            "896/896 [==============================] - 1s 1ms/step - loss: 51691028.0000 - mae: 5112.7607\n",
            "Epoch 30/40\n",
            "896/896 [==============================] - 1s 1ms/step - loss: 51550796.0000 - mae: 5081.1655\n",
            "Epoch 31/40\n",
            "896/896 [==============================] - 1s 1ms/step - loss: 51762040.0000 - mae: 5098.1250\n",
            "Epoch 32/40\n",
            "896/896 [==============================] - 1s 1ms/step - loss: 51710252.0000 - mae: 5108.8970\n",
            "Epoch 33/40\n",
            "896/896 [==============================] - 1s 1ms/step - loss: 51575384.0000 - mae: 5070.7671\n",
            "Epoch 34/40\n",
            "896/896 [==============================] - 1s 1ms/step - loss: 51491416.0000 - mae: 5084.2319\n",
            "Epoch 35/40\n",
            "896/896 [==============================] - 1s 1ms/step - loss: 51518360.0000 - mae: 5027.2891\n",
            "Epoch 36/40\n",
            "896/896 [==============================] - 1s 1ms/step - loss: 51284104.0000 - mae: 5056.8657\n",
            "Epoch 37/40\n",
            "896/896 [==============================] - 1s 1ms/step - loss: 51690556.0000 - mae: 5051.1743\n",
            "Epoch 38/40\n",
            "896/896 [==============================] - 1s 1ms/step - loss: 51487404.0000 - mae: 5076.1460\n",
            "Epoch 39/40\n",
            "896/896 [==============================] - 1s 1ms/step - loss: 51514728.0000 - mae: 5052.6533\n",
            "Epoch 40/40\n",
            "896/896 [==============================] - 1s 1ms/step - loss: 51561768.0000 - mae: 5072.9692\n"
          ]
        },
        {
          "output_type": "execute_result",
          "data": {
            "text/plain": [
              "<keras.callbacks.History at 0x7d985df5bc40>"
            ]
          },
          "metadata": {},
          "execution_count": 12
        }
      ]
    },
    {
      "cell_type": "code",
      "source": [
        "val_mse, val_mae = model.evaluate(features_test, labels_test, verbose=0)"
      ],
      "metadata": {
        "id": "QPqcEiocj8Tm"
      },
      "execution_count": 13,
      "outputs": []
    },
    {
      "cell_type": "code",
      "source": [
        "print(f'MSE: {val_mse}, MAE: {val_mae}')"
      ],
      "metadata": {
        "id": "4v_rXx4OmRTC",
        "outputId": "039fbf5d-ce40-42dd-e14f-52705cd130e5",
        "colab": {
          "base_uri": "https://localhost:8080/"
        }
      },
      "execution_count": 14,
      "outputs": [
        {
          "output_type": "stream",
          "name": "stdout",
          "text": [
            "MSE: 47847372.0, MAE: 4821.68896484375\n"
          ]
        }
      ]
    },
    {
      "cell_type": "code",
      "source": [
        "print(model.summary())"
      ],
      "metadata": {
        "id": "Pnt_AfAImk53",
        "outputId": "5116fe15-b7c9-4a9d-ab2f-50eaa3946fe6",
        "colab": {
          "base_uri": "https://localhost:8080/"
        }
      },
      "execution_count": 15,
      "outputs": [
        {
          "output_type": "stream",
          "name": "stdout",
          "text": [
            "Model: \"myfirstmodel\"\n",
            "_________________________________________________________________\n",
            " Layer (type)                Output Shape              Param #   \n",
            "=================================================================\n",
            " dense (Dense)               (None, 128)               1408      \n",
            "                                                                 \n",
            " dense_1 (Dense)             (None, 1)                 129       \n",
            "                                                                 \n",
            "=================================================================\n",
            "Total params: 1,537\n",
            "Trainable params: 1,537\n",
            "Non-trainable params: 0\n",
            "_________________________________________________________________\n",
            "None\n"
          ]
        }
      ]
    },
    {
      "cell_type": "code",
      "source": [],
      "metadata": {
        "id": "4WoqCllomusm"
      },
      "execution_count": 15,
      "outputs": []
    }
  ]
}